{
 "cells": [
  {
   "cell_type": "code",
   "execution_count": 1,
   "id": "1cf9deb8",
   "metadata": {},
   "outputs": [
    {
     "name": "stderr",
     "output_type": "stream",
     "text": [
      "2022-09-12 11:33:14.864411: I tensorflow/stream_executor/platform/default/dso_loader.cc:49] Successfully opened dynamic library libcudart.so.10.1\n"
     ]
    }
   ],
   "source": [
    "import h5py\n",
    "import numpy as np \n",
    "import matplotlib.pyplot as plt \n",
    "import pandas as pd\n",
    "import math\n",
    "import json\n",
    "from tensorflow import keras\n",
    "from datetime import datetime, timedelta\n",
    "import matplotlib.ticker as plticker\n",
    "import matplotlib.patches as mpatches\n",
    "from sklearn.utils import shuffle\n",
    "from sklearn.metrics import mean_squared_error\n",
    "from sklearn.metrics import mean_absolute_error\n",
    "from sklearn.preprocessing import MinMaxScaler\n",
    "from keras.models import Sequential\n",
    "from keras.layers import Dense, LSTM\n",
    "from keras.layers import Dropout\n",
    "from keras.layers import TimeDistributed\n",
    "from keras.callbacks import Callback\n",
    "\n",
    "import pandas as pd\n",
    "import numpy as np\n",
    "import math\n",
    "from sklearn.svm import SVR\n",
    "from sklearn.multioutput import MultiOutputRegressor\n",
    "from sklearn.metrics import mean_squared_error\n",
    "from sklearn.preprocessing import MinMaxScaler\n",
    "from keras.models import Sequential\n",
    "from keras.layers import Dense, LSTM\n",
    "from keras.callbacks import EarlyStopping\n",
    "# from talib import abstract\n",
    "import json\n",
    "import matplotlib.ticker as ticker\n",
    "import h5py\n",
    "import matplotlib.pyplot as plt\n",
    "from tensorflow import keras"
   ]
  },
  {
   "cell_type": "code",
   "execution_count": 2,
   "id": "636be541",
   "metadata": {},
   "outputs": [],
   "source": [
    "def load_LSTM(fn):\n",
    "    return keras.models.load_model(fn)\n",
    "\n",
    "def create_dataset(dataset, look_back=1, timesteps=6):\n",
    "    dataX, dataY = [], []\n",
    "    for i in range(len(dataset)-look_back-1):\n",
    "        a = dataset[i:(i+look_back), 0]\n",
    "        b = dataset[(i+look_back):(i+look_back+timesteps), 0]\n",
    "        if b.shape[0] < timesteps:\n",
    "            break\n",
    "        dataX.append(a)\n",
    "        dataY.append(b)\n",
    "    return np.array(dataX), np.array(dataY)"
   ]
  },
  {
   "cell_type": "markdown",
   "id": "02fa8bc6",
   "metadata": {},
   "source": [
    "# Parameter"
   ]
  },
  {
   "cell_type": "code",
   "execution_count": 3,
   "id": "16afa5ab",
   "metadata": {},
   "outputs": [
    {
     "name": "stdout",
     "output_type": "stream",
     "text": [
      "data.shape:  (12000, 1)\n"
     ]
    }
   ],
   "source": [
    "fp = 'pems-bay.h5' # (325 sensors, 52116 time steps)\n",
    "f = h5py.File(fp, 'r')\n",
    "timesteps = (12*24)*150\n",
    "sensor_no = 0\n",
    "one_day = (12*24)\n",
    "lookback_LSTM = one_day*7\n",
    "predict_horizon = 3\n",
    "dim_in = 1\n",
    "dim_out = predict_horizon\n",
    "test_samples = 12000\n",
    "data = np.array(f['speed']['block0_values']).transpose()[sensor_no][-test_samples:].reshape(-1,1)\n",
    "\n",
    "print('data.shape: ', data.shape)"
   ]
  },
  {
   "cell_type": "markdown",
   "id": "8a893976",
   "metadata": {},
   "source": [
    "# Prediction from LSTM"
   ]
  },
  {
   "cell_type": "code",
   "execution_count": 4,
   "id": "8d9d21c7",
   "metadata": {
    "scrolled": false
   },
   "outputs": [
    {
     "name": "stdout",
     "output_type": "stream",
     "text": [
      "X.shape, Y.shape:  (9982, 2016, 1) (9982, 3, 1)\n"
     ]
    },
    {
     "name": "stderr",
     "output_type": "stream",
     "text": [
      "2022-09-12 11:33:15.948114: I tensorflow/compiler/jit/xla_cpu_device.cc:41] Not creating XLA devices, tf_xla_enable_xla_devices not set\n",
      "2022-09-12 11:33:15.948742: I tensorflow/stream_executor/platform/default/dso_loader.cc:49] Successfully opened dynamic library libcuda.so.1\n",
      "2022-09-12 11:33:16.031515: I tensorflow/core/common_runtime/gpu/gpu_device.cc:1720] Found device 0 with properties: \n",
      "pciBusID: 0000:19:00.0 name: NVIDIA GeForce RTX 2080 Ti computeCapability: 7.5\n",
      "coreClock: 1.545GHz coreCount: 68 deviceMemorySize: 10.76GiB deviceMemoryBandwidth: 573.69GiB/s\n",
      "2022-09-12 11:33:16.031976: I tensorflow/core/common_runtime/gpu/gpu_device.cc:1720] Found device 1 with properties: \n",
      "pciBusID: 0000:8d:00.0 name: NVIDIA GeForce RTX 2080 Ti computeCapability: 7.5\n",
      "coreClock: 1.545GHz coreCount: 68 deviceMemorySize: 10.76GiB deviceMemoryBandwidth: 573.69GiB/s\n",
      "2022-09-12 11:33:16.032004: I tensorflow/stream_executor/platform/default/dso_loader.cc:49] Successfully opened dynamic library libcudart.so.10.1\n",
      "2022-09-12 11:33:16.033161: I tensorflow/stream_executor/platform/default/dso_loader.cc:49] Successfully opened dynamic library libcublas.so.10\n",
      "2022-09-12 11:33:16.033232: I tensorflow/stream_executor/platform/default/dso_loader.cc:49] Successfully opened dynamic library libcublasLt.so.10\n",
      "2022-09-12 11:33:16.034458: I tensorflow/stream_executor/platform/default/dso_loader.cc:49] Successfully opened dynamic library libcufft.so.10\n",
      "2022-09-12 11:33:16.034706: I tensorflow/stream_executor/platform/default/dso_loader.cc:49] Successfully opened dynamic library libcurand.so.10\n",
      "2022-09-12 11:33:16.035932: I tensorflow/stream_executor/platform/default/dso_loader.cc:49] Successfully opened dynamic library libcusolver.so.10\n",
      "2022-09-12 11:33:16.036624: I tensorflow/stream_executor/platform/default/dso_loader.cc:49] Successfully opened dynamic library libcusparse.so.10\n",
      "2022-09-12 11:33:16.039154: I tensorflow/stream_executor/platform/default/dso_loader.cc:49] Successfully opened dynamic library libcudnn.so.7\n",
      "2022-09-12 11:33:16.040894: I tensorflow/core/common_runtime/gpu/gpu_device.cc:1862] Adding visible gpu devices: 0, 1\n",
      "2022-09-12 11:33:16.041237: I tensorflow/core/platform/cpu_feature_guard.cc:142] This TensorFlow binary is optimized with oneAPI Deep Neural Network Library (oneDNN) to use the following CPU instructions in performance-critical operations:  SSE4.1 SSE4.2 AVX AVX2 AVX512F FMA\n",
      "To enable them in other operations, rebuild TensorFlow with the appropriate compiler flags.\n",
      "2022-09-12 11:33:16.042257: I tensorflow/compiler/jit/xla_gpu_device.cc:99] Not creating XLA devices, tf_xla_enable_xla_devices not set\n",
      "2022-09-12 11:33:16.238890: I tensorflow/core/common_runtime/gpu/gpu_device.cc:1720] Found device 0 with properties: \n",
      "pciBusID: 0000:19:00.0 name: NVIDIA GeForce RTX 2080 Ti computeCapability: 7.5\n",
      "coreClock: 1.545GHz coreCount: 68 deviceMemorySize: 10.76GiB deviceMemoryBandwidth: 573.69GiB/s\n",
      "2022-09-12 11:33:16.239318: I tensorflow/core/common_runtime/gpu/gpu_device.cc:1720] Found device 1 with properties: \n",
      "pciBusID: 0000:8d:00.0 name: NVIDIA GeForce RTX 2080 Ti computeCapability: 7.5\n",
      "coreClock: 1.545GHz coreCount: 68 deviceMemorySize: 10.76GiB deviceMemoryBandwidth: 573.69GiB/s\n",
      "2022-09-12 11:33:16.239350: I tensorflow/stream_executor/platform/default/dso_loader.cc:49] Successfully opened dynamic library libcudart.so.10.1\n",
      "2022-09-12 11:33:16.239368: I tensorflow/stream_executor/platform/default/dso_loader.cc:49] Successfully opened dynamic library libcublas.so.10\n",
      "2022-09-12 11:33:16.239376: I tensorflow/stream_executor/platform/default/dso_loader.cc:49] Successfully opened dynamic library libcublasLt.so.10\n",
      "2022-09-12 11:33:16.239384: I tensorflow/stream_executor/platform/default/dso_loader.cc:49] Successfully opened dynamic library libcufft.so.10\n",
      "2022-09-12 11:33:16.239392: I tensorflow/stream_executor/platform/default/dso_loader.cc:49] Successfully opened dynamic library libcurand.so.10\n",
      "2022-09-12 11:33:16.239400: I tensorflow/stream_executor/platform/default/dso_loader.cc:49] Successfully opened dynamic library libcusolver.so.10\n",
      "2022-09-12 11:33:16.239407: I tensorflow/stream_executor/platform/default/dso_loader.cc:49] Successfully opened dynamic library libcusparse.so.10\n",
      "2022-09-12 11:33:16.239416: I tensorflow/stream_executor/platform/default/dso_loader.cc:49] Successfully opened dynamic library libcudnn.so.7\n",
      "2022-09-12 11:33:16.240859: I tensorflow/core/common_runtime/gpu/gpu_device.cc:1862] Adding visible gpu devices: 0, 1\n",
      "2022-09-12 11:33:16.240886: I tensorflow/stream_executor/platform/default/dso_loader.cc:49] Successfully opened dynamic library libcudart.so.10.1\n",
      "2022-09-12 11:33:16.864145: I tensorflow/core/common_runtime/gpu/gpu_device.cc:1261] Device interconnect StreamExecutor with strength 1 edge matrix:\n",
      "2022-09-12 11:33:16.864174: I tensorflow/core/common_runtime/gpu/gpu_device.cc:1267]      0 1 \n",
      "2022-09-12 11:33:16.864178: I tensorflow/core/common_runtime/gpu/gpu_device.cc:1280] 0:   N N \n",
      "2022-09-12 11:33:16.864180: I tensorflow/core/common_runtime/gpu/gpu_device.cc:1280] 1:   N N \n",
      "2022-09-12 11:33:16.865832: I tensorflow/core/common_runtime/gpu/gpu_device.cc:1406] Created TensorFlow device (/job:localhost/replica:0/task:0/device:GPU:0 with 10074 MB memory) -> physical GPU (device: 0, name: NVIDIA GeForce RTX 2080 Ti, pci bus id: 0000:19:00.0, compute capability: 7.5)\n",
      "2022-09-12 11:33:16.866969: I tensorflow/core/common_runtime/gpu/gpu_device.cc:1406] Created TensorFlow device (/job:localhost/replica:0/task:0/device:GPU:1 with 10075 MB memory) -> physical GPU (device: 1, name: NVIDIA GeForce RTX 2080 Ti, pci bus id: 0000:8d:00.0, compute capability: 7.5)\n",
      "2022-09-12 11:33:17.245612: I tensorflow/compiler/mlir/mlir_graph_optimization_pass.cc:116] None of the MLIR optimization passes are enabled (registered 2)\n",
      "2022-09-12 11:33:17.262118: I tensorflow/core/platform/profile_utils/cpu_utils.cc:112] CPU Frequency: 3500000000 Hz\n",
      "2022-09-12 11:33:17.580465: I tensorflow/stream_executor/platform/default/dso_loader.cc:49] Successfully opened dynamic library libcublas.so.10\n",
      "2022-09-12 11:33:17.755508: I tensorflow/stream_executor/platform/default/dso_loader.cc:49] Successfully opened dynamic library libcudnn.so.7\n"
     ]
    },
    {
     "name": "stdout",
     "output_type": "stream",
     "text": [
      "Prediction shape:  (9982, 3)\n"
     ]
    }
   ],
   "source": [
    "X, Y = create_dataset(data, lookback_LSTM, predict_horizon)\n",
    "X = np.reshape(X, (X.shape[0], X.shape[1], 1))\n",
    "Y = np.reshape(Y, (Y.shape[0], Y.shape[1], 1))\n",
    "\n",
    "X = np.reshape(X, (X.shape[0], X.shape[1], 1))\n",
    "Y = np.reshape(Y, (Y.shape[0], Y.shape[1], 1))\n",
    "\n",
    "print('X.shape, Y.shape: ', X.shape, Y.shape)\n",
    "\n",
    "LSTMmodel = load_LSTM('models/lstm-multi-rmsprop512.h5')\n",
    "\n",
    "LSTMpred = LSTMmodel.predict(X)\n",
    "print('Prediction shape: ', LSTMpred.shape)"
   ]
  },
  {
   "cell_type": "markdown",
   "id": "d5beb098",
   "metadata": {},
   "source": [
    "# Prediction from SVR"
   ]
  },
  {
   "cell_type": "code",
   "execution_count": 5,
   "id": "917aa1ea",
   "metadata": {},
   "outputs": [
    {
     "name": "stdout",
     "output_type": "stream",
     "text": [
      "data1.shape:  (4032, 1)\n",
      "train.shape:  (3225, 1)\n",
      "test.shape:  (807, 1)\n",
      "trainX.shape, trainY.shape (3217, 6) (3217, 3)\n",
      "testX.shape, testY.shape (799, 6) (799, 3)\n"
     ]
    }
   ],
   "source": [
    "# Train\n",
    "timesteps = (12*24)*14\n",
    "lookback_SVR = 6\n",
    "data1 = np.array(f['speed']['block0_values']).transpose()[sensor_no][:timesteps].reshape(-1,1)\n",
    "train_size = int(data1.shape[0]*0.8)\n",
    "test_size = data1.shape[0] - train_size\n",
    "train = data1[:train_size,:]\n",
    "test = data1[train_size:,:]\n",
    "print('data1.shape: ', data1.shape)\n",
    "print('train.shape: ', train.shape)\n",
    "print('test.shape: ', test.shape)\n",
    "\n",
    "trainX, trainY = create_dataset(train, lookback_SVR, predict_horizon)\n",
    "testX, testY = create_dataset(test, lookback_SVR, predict_horizon)\n",
    "\n",
    "print('trainX.shape, trainY.shape', trainX.shape, trainY.shape)\n",
    "print('testX.shape, testY.shape', testX.shape, testY.shape)\n",
    "\n",
    "svr = SVR(kernel='rbf', gamma=0.5, epsilon=0.05)\n",
    "SVRmodel = MultiOutputRegressor(svr)\n",
    "SVRmodel.fit(trainX, trainY)\n",
    "\n",
    "trainPred = SVRmodel.predict(trainX)\n",
    "testPred  = SVRmodel.predict(testX)"
   ]
  },
  {
   "cell_type": "code",
   "execution_count": 6,
   "id": "badabe52",
   "metadata": {
    "scrolled": true
   },
   "outputs": [
    {
     "name": "stdout",
     "output_type": "stream",
     "text": [
      "X.shape, Y.shape:  (11992, 6) (11992, 3)\n",
      "SVRpred.shape (9982, 3)\n"
     ]
    }
   ],
   "source": [
    "# input data\n",
    "X, Y = create_dataset(data, lookback_SVR, predict_horizon)\n",
    "# predict\n",
    "SVRpred = SVRmodel.predict(X)\n",
    "SVRpred = SVRpred[(lookback_LSTM-lookback_SVR):, :]\n",
    "\n",
    "print('X.shape, Y.shape: ', X.shape, Y.shape)\n",
    "print('SVRpred.shape', SVRpred.shape)"
   ]
  },
  {
   "cell_type": "markdown",
   "id": "92b0fe5b",
   "metadata": {},
   "source": [
    "# Combined"
   ]
  },
  {
   "cell_type": "code",
   "execution_count": 7,
   "id": "08d32072",
   "metadata": {},
   "outputs": [
    {
     "name": "stdout",
     "output_type": "stream",
     "text": [
      "SVRpred.shape : (9982, 3, 1)\n",
      "LSTMpred.shape: (9982, 3, 1)\n",
      "X.shape   : (9982, 3, 2)\n",
      "Y.shape   : (9982, 3, 1)\n",
      "trainX.shape:  (6987, 3, 2)\n",
      "trainY.shape:  (6987, 3, 1)\n",
      "testX.shape :  (2995, 3, 2)\n",
      "testY.shape :  (2995, 3, 1)\n"
     ]
    }
   ],
   "source": [
    "batch_size=32\n",
    "no_epochs=100\n",
    "# combine 2 output from LSTM and SVR\n",
    "X = np.concatenate((SVRpred.reshape(SVRpred.shape[0], SVRpred.shape[1], 1),\n",
    "                   LSTMpred.reshape(LSTMpred.shape[0], LSTMpred.shape[1], 1)), axis=2)\n",
    "\n",
    "# get Y for NN training\n",
    "data = np.array(f['speed']['block0_values']).transpose()[sensor_no][-test_samples:].reshape(-1,1)\n",
    "_, Y = create_dataset(data, lookback_LSTM, predict_horizon)\n",
    "Y = np.reshape(Y, (Y.shape[0], Y.shape[1], 1))\n",
    "\n",
    "train_size = int(0.7*X.shape[0])\n",
    "trainX = X[:train_size,]\n",
    "trainY = Y[:train_size,]\n",
    "testX = X[train_size:,]\n",
    "testY = Y[train_size:,]\n",
    "\n",
    "NNmodel = Sequential()\n",
    "NNmodel.add(Dense(\n",
    "    units=288,\n",
    "    input_shape=(3,2),\n",
    "    activation='relu'))\n",
    "NNmodel.add(Dense(\n",
    "    units=144,\n",
    "    activation='relu'))\n",
    "NNmodel.add(Dense(\n",
    "    units=10,\n",
    "    activation='relu'))\n",
    "NNmodel.add(Dense(\n",
    "    units=1,\n",
    "    activation='linear'))\n",
    "NNmodel.compile(loss='mean_squared_error', optimizer='rmsprop', metrics=['mse', 'mae', 'mape'])\n",
    "\n",
    "history = NNmodel.fit(trainX,\n",
    "                    trainY,\n",
    "                    batch_size=batch_size,\n",
    "                    epochs=no_epochs,\n",
    "                    verbose=0,\n",
    "                    validation_data=(testX, testY),\n",
    "                    shuffle=False)\n",
    "\n",
    "print('SVRpred.shape :', SVRpred.reshape(SVRpred.shape[0], SVRpred.shape[1], 1).shape)\n",
    "print('LSTMpred.shape:', LSTMpred.reshape(LSTMpred.shape[0], LSTMpred.shape[1], 1).shape)\n",
    "print('X.shape   :', X.shape)\n",
    "print('Y.shape   :',Y.shape)\n",
    "print('trainX.shape: ', trainX.shape)\n",
    "print('trainY.shape: ', trainY.shape)\n",
    "print('testX.shape : ', testX.shape)\n",
    "print('testY.shape : ', testY.shape)\n",
    "\n"
   ]
  },
  {
   "cell_type": "code",
   "execution_count": 8,
   "id": "a85e7b0a",
   "metadata": {
    "scrolled": false
   },
   "outputs": [],
   "source": [
    "trainPred = NNmodel.predict(trainX)\n",
    "testPred  = NNmodel.predict(testX)"
   ]
  },
  {
   "cell_type": "markdown",
   "id": "912b68eb",
   "metadata": {},
   "source": [
    "# Predictions From All Models"
   ]
  },
  {
   "cell_type": "code",
   "execution_count": 9,
   "id": "b8be0655",
   "metadata": {},
   "outputs": [
    {
     "name": "stdout",
     "output_type": "stream",
     "text": [
      "lstmPred.shape, svrPred, hybridPred, truth:  (2995, 3) (2995, 3) (2995, 3) (2995, 3, 1)\n"
     ]
    },
    {
     "data": {
      "text/plain": [
       "<matplotlib.legend.Legend at 0x7f153fb078d0>"
      ]
     },
     "execution_count": 9,
     "metadata": {},
     "output_type": "execute_result"
    },
    {
     "data": {
      "image/png": "[encoded data removed]",
      "text/plain": [
       "<Figure size 720x360 with 1 Axes>"
      ]
     },
     "metadata": {
      "needs_background": "light"
     },
     "output_type": "display_data"
    }
   ],
   "source": [
    "lstmPred   = LSTMpred[-2995:]\n",
    "svrPred    = SVRpred[-2995:]\n",
    "hybridPred = testPred.reshape(-1,3)\n",
    "truth = testY\n",
    "print('lstmPred.shape, svrPred, hybridPred, truth: ', lstmPred.shape, svrPred.shape, hybridPred.shape, truth.shape)\n",
    "\n",
    "show_from = 0\n",
    "show_to = 288\n",
    "fig,ax = plt.subplots(figsize=(10,5))\n",
    "ax.plot(truth[:,0][show_from:show_to], label='true data')\n",
    "ax.plot(lstmPred[:,0][show_from:show_to], label='LSTM')\n",
    "ax.plot(svrPred[:,0][show_from:show_to], label='SVR')\n",
    "ax.plot(hybridPred[:,0][show_from:show_to], label='LSTM-SVR')\n",
    "ax.legend()"
   ]
  }
 ],
 "metadata": {
  "kernelspec": {
   "display_name": "Python 3 (ipykernel)",
   "language": "python",
   "name": "python3"
  },
  "language_info": {
   "codemirror_mode": {
    "name": "ipython",
    "version": 3
   },
   "file_extension": ".py",
   "mimetype": "text/x-python",
   "name": "python",
   "nbconvert_exporter": "python",
   "pygments_lexer": "ipython3",
   "version": "3.7.10"
  }
 },
 "nbformat": 4,
 "nbformat_minor": 5
}
